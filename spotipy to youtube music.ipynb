{
 "cells": [
  {
   "cell_type": "code",
   "execution_count": 1,
   "id": "d28ffbed",
   "metadata": {},
   "outputs": [],
   "source": [
    "import spotipy\n",
    "import ytmusicapi\n",
    "import itertools\n",
    "from tqdm import tqdm"
   ]
  },
  {
   "cell_type": "code",
   "execution_count": 2,
   "id": "298cb453",
   "metadata": {},
   "outputs": [],
   "source": [
    "auth_manager=spotipy.oauth2.SpotifyClientCredentials()\n",
    "spotify_client=spotipy.Spotify(auth_manager=auth_manager)\n",
    "\n",
    "ytmusic_client=ytmusicapi.YTMusic(\"browser.json\")"
   ]
  },
  {
   "cell_type": "code",
   "execution_count": 3,
   "id": "8bcfd8c9",
   "metadata": {},
   "outputs": [],
   "source": [
    "spotify_playlist_id=\"3lUQm8nEAUqahekPtsBpeO\"\n",
    "res=spotify_client.playlist_items(spotify_playlist_id, offset=100)\n",
    "\n",
    "def playlist_items(spotify_playlist_id):\n",
    "    for offset in itertools.count(step=100):\n",
    "        resp=spotify_client.playlist_items(spotify_playlist_id,offset=offset,limit=100)\n",
    "        for item in resp[\"items\"]:\n",
    "            yield item\n",
    "        if resp[\"next\"] is None:\n",
    "            return"
   ]
  },
  {
   "cell_type": "code",
   "execution_count": 4,
   "id": "9c63023d",
   "metadata": {},
   "outputs": [],
   "source": [
    "items=playlist_items(spotify_playlist_id)"
   ]
  },
  {
   "cell_type": "code",
   "execution_count": 5,
   "id": "767da9ba",
   "metadata": {},
   "outputs": [
    {
     "ename": "Exception",
     "evalue": "Server returned HTTP 400: Bad Request.\nYou are creating too many playlists. Please wait a while before creating further playlists.",
     "output_type": "error",
     "traceback": [
      "\u001b[1;31m---------------------------------------------------------------------------\u001b[0m",
      "\u001b[1;31mException\u001b[0m                                 Traceback (most recent call last)",
      "Input \u001b[1;32mIn [5]\u001b[0m, in \u001b[0;36m<cell line: 4>\u001b[1;34m()\u001b[0m\n\u001b[0;32m      1\u001b[0m \u001b[38;5;28;01mfrom\u001b[39;00m \u001b[38;5;21;01mytmusicapi\u001b[39;00m \u001b[38;5;28;01mimport\u001b[39;00m YTMusic\n\u001b[0;32m      3\u001b[0m ytmusic \u001b[38;5;241m=\u001b[39m YTMusic(\u001b[38;5;124m\"\u001b[39m\u001b[38;5;124mbrowser.json\u001b[39m\u001b[38;5;124m\"\u001b[39m)\n\u001b[1;32m----> 4\u001b[0m playlistId \u001b[38;5;241m=\u001b[39m \u001b[43mytmusic\u001b[49m\u001b[38;5;241;43m.\u001b[39;49m\u001b[43mcreate_playlist\u001b[49m\u001b[43m(\u001b[49m\u001b[38;5;124;43m\"\u001b[39;49m\u001b[38;5;124;43mJainam\u001b[39;49m\u001b[38;5;124;43m\"\u001b[39;49m\u001b[43m,\u001b[49m\u001b[43m \u001b[49m\u001b[38;5;124;43m\"\u001b[39;49m\u001b[38;5;124;43mdescription\u001b[39;49m\u001b[38;5;124;43m\"\u001b[39;49m\u001b[43m)\u001b[49m\n",
      "File \u001b[1;32m~\\AppData\\Local\\Programs\\Python\\Python310\\lib\\site-packages\\ytmusicapi\\mixins\\playlists.py:219\u001b[0m, in \u001b[0;36mPlaylistsMixin.create_playlist\u001b[1;34m(self, title, description, privacy_status, video_ids, source_playlist)\u001b[0m\n\u001b[0;32m    216\u001b[0m     body[\u001b[38;5;124m'\u001b[39m\u001b[38;5;124msourcePlaylistId\u001b[39m\u001b[38;5;124m'\u001b[39m] \u001b[38;5;241m=\u001b[39m source_playlist\n\u001b[0;32m    218\u001b[0m endpoint \u001b[38;5;241m=\u001b[39m \u001b[38;5;124m'\u001b[39m\u001b[38;5;124mplaylist/create\u001b[39m\u001b[38;5;124m'\u001b[39m\n\u001b[1;32m--> 219\u001b[0m response \u001b[38;5;241m=\u001b[39m \u001b[38;5;28;43mself\u001b[39;49m\u001b[38;5;241;43m.\u001b[39;49m\u001b[43m_send_request\u001b[49m\u001b[43m(\u001b[49m\u001b[43mendpoint\u001b[49m\u001b[43m,\u001b[49m\u001b[43m \u001b[49m\u001b[43mbody\u001b[49m\u001b[43m)\u001b[49m\n\u001b[0;32m    220\u001b[0m \u001b[38;5;28;01mreturn\u001b[39;00m response[\u001b[38;5;124m'\u001b[39m\u001b[38;5;124mplaylistId\u001b[39m\u001b[38;5;124m'\u001b[39m] \u001b[38;5;28;01mif\u001b[39;00m \u001b[38;5;124m'\u001b[39m\u001b[38;5;124mplaylistId\u001b[39m\u001b[38;5;124m'\u001b[39m \u001b[38;5;129;01min\u001b[39;00m response \u001b[38;5;28;01melse\u001b[39;00m response\n",
      "File \u001b[1;32m~\\AppData\\Local\\Programs\\Python\\Python310\\lib\\site-packages\\ytmusicapi\\ytmusic.py:142\u001b[0m, in \u001b[0;36mYTMusic._send_request\u001b[1;34m(self, endpoint, body, additionalParams)\u001b[0m\n\u001b[0;32m    139\u001b[0m     message \u001b[38;5;241m=\u001b[39m \u001b[38;5;124m\"\u001b[39m\u001b[38;5;124mServer returned HTTP \u001b[39m\u001b[38;5;124m\"\u001b[39m \u001b[38;5;241m+\u001b[39m \u001b[38;5;28mstr\u001b[39m(\n\u001b[0;32m    140\u001b[0m         response\u001b[38;5;241m.\u001b[39mstatus_code) \u001b[38;5;241m+\u001b[39m \u001b[38;5;124m\"\u001b[39m\u001b[38;5;124m: \u001b[39m\u001b[38;5;124m\"\u001b[39m \u001b[38;5;241m+\u001b[39m response\u001b[38;5;241m.\u001b[39mreason \u001b[38;5;241m+\u001b[39m \u001b[38;5;124m\"\u001b[39m\u001b[38;5;124m.\u001b[39m\u001b[38;5;130;01m\\n\u001b[39;00m\u001b[38;5;124m\"\u001b[39m\n\u001b[0;32m    141\u001b[0m     error \u001b[38;5;241m=\u001b[39m response_text\u001b[38;5;241m.\u001b[39mget(\u001b[38;5;124m'\u001b[39m\u001b[38;5;124merror\u001b[39m\u001b[38;5;124m'\u001b[39m, {})\u001b[38;5;241m.\u001b[39mget(\u001b[38;5;124m'\u001b[39m\u001b[38;5;124mmessage\u001b[39m\u001b[38;5;124m'\u001b[39m)\n\u001b[1;32m--> 142\u001b[0m     \u001b[38;5;28;01mraise\u001b[39;00m \u001b[38;5;167;01mException\u001b[39;00m(message \u001b[38;5;241m+\u001b[39m error)\n\u001b[0;32m    143\u001b[0m \u001b[38;5;28;01mreturn\u001b[39;00m response_text\n",
      "\u001b[1;31mException\u001b[0m: Server returned HTTP 400: Bad Request.\nYou are creating too many playlists. Please wait a while before creating further playlists."
     ]
    }
   ],
   "source": [
    "from ytmusicapi import YTMusic\n",
    "\n",
    "ytmusic = YTMusic(\"browser.json\")\n",
    "playlistId = ytmusic.create_playlist(\"Jainam\", \"description\")"
   ]
  },
  {
   "cell_type": "code",
   "execution_count": null,
   "id": "864f2423",
   "metadata": {},
   "outputs": [],
   "source": [
    "videoids=[]\n",
    "for item in tqdm(items):\n",
    "    \n",
    "#     try:\n",
    "             \n",
    "        title=item[\"track\"][\"name\"]\n",
    "        album=item[\"track\"][\"album\"][\"name\"]\n",
    "        artists=\" \".join( [a[\"name\"] for a in item[\"track\"][\"artists\"] if a[\"type\"]==\"artists\" ])\n",
    "\n",
    "        query=f\"{title} {album} {artists}\"\n",
    "        search_results = ytmusic_client.search(query)\n",
    "        for result in search_results:\n",
    "            if result[\"resultType\"]==\"song\":\n",
    "                videoids.append(result[\"videoId\"])\n",
    "                print(query)\n",
    "                break\n",
    "        else:\n",
    "            \n",
    "            print(f\"could not find a match for {query}\")\n",
    "            print(query)\n",
    "\n",
    "#         except TypeError:\n",
    "#                 continue\n"
   ]
  },
  {
   "cell_type": "code",
   "execution_count": null,
   "id": "e4a0b3e5",
   "metadata": {},
   "outputs": [],
   "source": [
    "ans=ytmusic_client.add_playlist_items(playlistId,videoids)\n",
    "print(ans)"
   ]
  }
 ],
 "metadata": {
  "kernelspec": {
   "display_name": "Python 3 (ipykernel)",
   "language": "python",
   "name": "python3"
  },
  "language_info": {
   "codemirror_mode": {
    "name": "ipython",
    "version": 3
   },
   "file_extension": ".py",
   "mimetype": "text/x-python",
   "name": "python",
   "nbconvert_exporter": "python",
   "pygments_lexer": "ipython3",
   "version": "3.10.6"
  }
 },
 "nbformat": 4,
 "nbformat_minor": 5
}
