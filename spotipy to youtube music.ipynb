{
 "cells": [
  {
   "cell_type": "code",
   "execution_count": 1,
   "id": "d28ffbed",
   "metadata": {},
   "outputs": [],
   "source": [
    "import spotipy\n",
    "import ytmusicapi\n",
    "import itertools\n",
    "from tqdm import tqdm"
   ]
  },
  {
   "cell_type": "code",
   "execution_count": 2,
   "id": "298cb453",
   "metadata": {},
   "outputs": [],
   "source": [
    "auth_manager=spotipy.oauth2.SpotifyClientCredentials()\n",
    "spotify_client=spotipy.Spotify(auth_manager=auth_manager)\n",
    "\n",
    "ytmusic_client=ytmusicapi.YTMusic(\"browser.json\")"
   ]
  },
  {
   "cell_type": "code",
   "execution_count": 3,
   "id": "8bcfd8c9",
   "metadata": {},
   "outputs": [],
   "source": [
    "spotify_playlist_id=\"1SDiCz7lKgobDumXXEub5X\"\n",
    "res=spotify_client.playlist_items(spotify_playlist_id, offset=100)\n",
    "\n",
    "def playlist_items(spotify_playlist_id):\n",
    "    for offset in itertools.count(step=100):\n",
    "        resp=spotify_client.playlist_items(spotify_playlist_id,offset=offset,limit=100)\n",
    "        for item in resp[\"items\"]:\n",
    "            yield item\n",
    "        if resp[\"next\"] is None:\n",
    "            return"
   ]
  },
  {
   "cell_type": "code",
   "execution_count": 4,
   "id": "9c63023d",
   "metadata": {},
   "outputs": [],
   "source": [
    "items=playlist_items(spotify_playlist_id)"
   ]
  },
  {
   "cell_type": "code",
   "execution_count": 5,
   "id": "767da9ba",
   "metadata": {},
   "outputs": [],
   "source": [
    "from ytmusicapi import YTMusic\n",
    "\n",
    "ytmusic = YTMusic(\"browser.json\")\n",
    "playlistId = ytmusic.create_playlist(\"new_playlist\", \"description\")"
   ]
  },
  {
   "cell_type": "code",
   "execution_count": 6,
   "id": "864f2423",
   "metadata": {},
   "outputs": [
    {
     "name": "stderr",
     "output_type": "stream",
     "text": [
      "1it [00:01,  1.16s/it]"
     ]
    },
    {
     "name": "stdout",
     "output_type": "stream",
     "text": [
      "Darkhaast (feat. Arijit Singh, Sunidhi Chauhan) Shivaay \n"
     ]
    },
    {
     "name": "stderr",
     "output_type": "stream",
     "text": [
      "\r",
      "2it [00:01,  1.07it/s]"
     ]
    },
    {
     "name": "stdout",
     "output_type": "stream",
     "text": [
      "Tu Hi Yaar Mera (From \"Pati Patni Aur Woh\") Tu Hi Yaar Mera (From \"Pati Patni Aur Woh\") \n"
     ]
    },
    {
     "name": "stderr",
     "output_type": "stream",
     "text": [
      "\r",
      "3it [00:02,  1.20it/s]"
     ]
    },
    {
     "name": "stdout",
     "output_type": "stream",
     "text": [
      "If We Have Each Other Narrated For You \n"
     ]
    },
    {
     "name": "stderr",
     "output_type": "stream",
     "text": [
      "\r",
      "4it [00:03,  1.32it/s]"
     ]
    },
    {
     "name": "stdout",
     "output_type": "stream",
     "text": [
      "Dandelions Safe Haven \n"
     ]
    },
    {
     "name": "stderr",
     "output_type": "stream",
     "text": [
      "\r",
      "5it [00:03,  1.41it/s]"
     ]
    },
    {
     "name": "stdout",
     "output_type": "stream",
     "text": [
      "Tum Jo Aaye Once Upon A Time In Mumbaai \n"
     ]
    },
    {
     "name": "stderr",
     "output_type": "stream",
     "text": [
      "\r",
      "6it [00:04,  1.48it/s]"
     ]
    },
    {
     "name": "stdout",
     "output_type": "stream",
     "text": [
      "Gulabi Aankhen Universally SANAM \n"
     ]
    },
    {
     "name": "stderr",
     "output_type": "stream",
     "text": [
      "\r",
      "7it [00:05,  1.49it/s]"
     ]
    },
    {
     "name": "stdout",
     "output_type": "stream",
     "text": [
      "Navkar Mantra Navkar Mantra \n"
     ]
    },
    {
     "name": "stderr",
     "output_type": "stream",
     "text": [
      "\r",
      "8it [00:05,  1.46it/s]"
     ]
    },
    {
     "name": "stdout",
     "output_type": "stream",
     "text": [
      "Ram Siya Ram (From \"Adipurush\") Ram Siya Ram (From \"Adipurush\") \n"
     ]
    },
    {
     "name": "stderr",
     "output_type": "stream",
     "text": [
      "\r",
      "9it [00:06,  1.38it/s]"
     ]
    },
    {
     "name": "stdout",
     "output_type": "stream",
     "text": [
      "Tera Yaar Hoon Main Sonu Ke Titu Ki Sweety \n"
     ]
    },
    {
     "name": "stderr",
     "output_type": "stream",
     "text": [
      "\r",
      "10it [00:07,  1.39it/s]"
     ]
    },
    {
     "name": "stdout",
     "output_type": "stream",
     "text": [
      "Paniyon Sa Paniyon Sa (From \"Satyameva Jayate\") \n"
     ]
    },
    {
     "name": "stderr",
     "output_type": "stream",
     "text": [
      "\r",
      "11it [00:08,  1.47it/s]"
     ]
    },
    {
     "name": "stdout",
     "output_type": "stream",
     "text": [
      "Maan Meri Jaan Champagne Talk \n"
     ]
    },
    {
     "name": "stderr",
     "output_type": "stream",
     "text": [
      "\r",
      "12it [00:08,  1.57it/s]"
     ]
    },
    {
     "name": "stdout",
     "output_type": "stream",
     "text": [
      "Vaaste Vaaste \n"
     ]
    },
    {
     "name": "stderr",
     "output_type": "stream",
     "text": [
      "\r",
      "13it [00:09,  1.58it/s]"
     ]
    },
    {
     "name": "stdout",
     "output_type": "stream",
     "text": [
      "Your Eyes Your Eyes \n"
     ]
    },
    {
     "name": "stderr",
     "output_type": "stream",
     "text": [
      "14it [00:09,  1.43it/s]"
     ]
    },
    {
     "name": "stdout",
     "output_type": "stream",
     "text": [
      "Tarasti Hain Nigaahain (Galat Fehmi) Tarasti Hain Nigaahain (Galat Fehmi) \n"
     ]
    },
    {
     "name": "stderr",
     "output_type": "stream",
     "text": [
      "\n"
     ]
    }
   ],
   "source": [
    "videoids=[]\n",
    "for item in tqdm(items):\n",
    "    \n",
    "#     try:\n",
    "             \n",
    "        title=item[\"track\"][\"name\"]\n",
    "        album=item[\"track\"][\"album\"][\"name\"]\n",
    "        artists=\" \".join( [a[\"name\"] for a in item[\"track\"][\"artists\"] if a[\"type\"]==\"artists\" ])\n",
    "\n",
    "        query=f\"{title} {album} {artists}\"\n",
    "        search_results = ytmusic_client.search(query)\n",
    "        for result in search_results:\n",
    "            if result[\"resultType\"]==\"song\":\n",
    "                videoids.append(result[\"videoId\"])\n",
    "                print(query)\n",
    "                break\n",
    "        else:\n",
    "            \n",
    "            print(f\"could not find a match for {query}\")\n",
    "            print(query)\n",
    "\n",
    "#         except TypeError:\n",
    "#                 continue\n"
   ]
  },
  {
   "cell_type": "code",
   "execution_count": 7,
   "id": "e4a0b3e5",
   "metadata": {},
   "outputs": [
    {
     "name": "stdout",
     "output_type": "stream",
     "text": [
      "{'status': 'STATUS_SUCCEEDED', 'playlistEditResults': [{'videoId': '-3vUz7QPljM', 'setVideoId': '56B44F6D10557CC6', 'multiSelectData': {'multiSelectParams': 'CAESIlBMalZ4M05GbWZUbWw1V0NlWDJjU2VsTElqY0J6WWFteW4=', 'multiSelectItem': 'Ch8KCy0zdlV6N1FQbGpNEhA1NkI0NEY2RDEwNTU3Q0M2'}}, {'videoId': 'v2eSPNas4sQ', 'setVideoId': '289F4A46DF0A30D2', 'multiSelectData': {'multiSelectParams': 'CAESIlBMalZ4M05GbWZUbWw1V0NlWDJjU2VsTElqY0J6WWFteW4=', 'multiSelectItem': 'Ch8KC3YyZVNQTmFzNHNREhAyODlGNEE0NkRGMEEzMEQy'}}, {'videoId': 'iSaw6_lWRS4', 'setVideoId': '017208FAA85233F9', 'multiSelectData': {'multiSelectParams': 'CAESIlBMalZ4M05GbWZUbWw1V0NlWDJjU2VsTElqY0J6WWFteW4=', 'multiSelectItem': 'Ch8KC2lTYXc2X2xXUlM0EhAwMTcyMDhGQUE4NTIzM0Y5'}}, {'videoId': 'wzdAmH5RS-E', 'setVideoId': '52152B4946C2F73F', 'multiSelectData': {'multiSelectParams': 'CAESIlBMalZ4M05GbWZUbWw1V0NlWDJjU2VsTElqY0J6WWFteW4=', 'multiSelectItem': 'Ch8KC3d6ZEFtSDVSUy1FEhA1MjE1MkI0OTQ2QzJGNzNG'}}, {'videoId': 'LQzByGZHiQ8', 'setVideoId': '090796A75D153932', 'multiSelectData': {'multiSelectParams': 'CAESIlBMalZ4M05GbWZUbWw1V0NlWDJjU2VsTElqY0J6WWFteW4=', 'multiSelectItem': 'Ch8KC0xRekJ5R1pIaVE4EhAwOTA3OTZBNzVEMTUzOTMy'}}, {'videoId': '39fdxGmYfvg', 'setVideoId': '12EFB3B1C57DE4E1', 'multiSelectData': {'multiSelectParams': 'CAESIlBMalZ4M05GbWZUbWw1V0NlWDJjU2VsTElqY0J6WWFteW4=', 'multiSelectItem': 'Ch8KCzM5ZmR4R21ZZnZnEhAxMkVGQjNCMUM1N0RFNEUx'}}, {'videoId': 'N3bClpLbOIE', 'setVideoId': '532BB0B422FBC7EC', 'multiSelectData': {'multiSelectParams': 'CAESIlBMalZ4M05GbWZUbWw1V0NlWDJjU2VsTElqY0J6WWFteW4=', 'multiSelectItem': 'Ch8KC04zYkNscExiT0lFEhA1MzJCQjBCNDIyRkJDN0VD'}}, {'videoId': 'j_c4S1n710A', 'setVideoId': 'CACDD466B3ED1565', 'multiSelectData': {'multiSelectParams': 'CAESIlBMalZ4M05GbWZUbWw1V0NlWDJjU2VsTElqY0J6WWFteW4=', 'multiSelectItem': 'Ch8KC2pfYzRTMW43MTBBEhBDQUNERDQ2NkIzRUQxNTY1'}}, {'videoId': 'Jkj8c3kvpBo', 'setVideoId': '9495DFD78D359043', 'multiSelectData': {'multiSelectParams': 'CAESIlBMalZ4M05GbWZUbWw1V0NlWDJjU2VsTElqY0J6WWFteW4=', 'multiSelectItem': 'Ch8KC0prajhjM2t2cEJvEhA5NDk1REZENzhEMzU5MDQz'}}, {'videoId': 'hMRIC-pT82Y', 'setVideoId': 'F63CD4D04198B046', 'multiSelectData': {'multiSelectParams': 'CAESIlBMalZ4M05GbWZUbWw1V0NlWDJjU2VsTElqY0J6WWFteW4=', 'multiSelectItem': 'Ch8KC2hNUklDLXBUODJZEhBGNjNDRDREMDQxOThCMDQ2'}}, {'videoId': '_9FyH8PmRSU', 'setVideoId': '476B0DC25D7DEE8A', 'multiSelectData': {'multiSelectParams': 'CAESIlBMalZ4M05GbWZUbWw1V0NlWDJjU2VsTElqY0J6WWFteW4=', 'multiSelectItem': 'Ch8KC185RnlIOFBtUlNVEhA0NzZCMERDMjVEN0RFRThB'}}, {'videoId': '-178Bx1bdjo', 'setVideoId': 'D0A0EF93DCE5742B', 'multiSelectData': {'multiSelectParams': 'CAESIlBMalZ4M05GbWZUbWw1V0NlWDJjU2VsTElqY0J6WWFteW4=', 'multiSelectItem': 'Ch8KCy0xNzhCeDFiZGpvEhBEMEEwRUY5M0RDRTU3NDJC'}}, {'videoId': 'bSbmY4NJ4iw', 'setVideoId': '984C584B086AA6D2', 'multiSelectData': {'multiSelectParams': 'CAESIlBMalZ4M05GbWZUbWw1V0NlWDJjU2VsTElqY0J6WWFteW4=', 'multiSelectItem': 'Ch8KC2JTYm1ZNE5KNGl3EhA5ODRDNTg0QjA4NkFBNkQy'}}, {'videoId': 'H9d_tQ0Ezys', 'setVideoId': '30892D90EC0C5586', 'multiSelectData': {'multiSelectParams': 'CAESIlBMalZ4M05GbWZUbWw1V0NlWDJjU2VsTElqY0J6WWFteW4=', 'multiSelectItem': 'Ch8KC0g5ZF90UTBFenlzEhAzMDg5MkQ5MEVDMEM1NTg2'}}]}\n"
     ]
    }
   ],
   "source": [
    "ans=ytmusic_client.add_playlist_items(playlistId,videoids)\n",
    "print(ans)"
   ]
  }
 ],
 "metadata": {
  "kernelspec": {
   "display_name": "Python 3 (ipykernel)",
   "language": "python",
   "name": "python3"
  },
  "language_info": {
   "codemirror_mode": {
    "name": "ipython",
    "version": 3
   },
   "file_extension": ".py",
   "mimetype": "text/x-python",
   "name": "python",
   "nbconvert_exporter": "python",
   "pygments_lexer": "ipython3",
   "version": "3.10.6"
  }
 },
 "nbformat": 4,
 "nbformat_minor": 5
}
